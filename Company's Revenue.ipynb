{
 "cells": [
  {
   "cell_type": "code",
   "execution_count": 139,
   "id": "c8196f11",
   "metadata": {},
   "outputs": [],
   "source": [
    "import pandas as pd"
   ]
  },
  {
   "cell_type": "code",
   "execution_count": 140,
   "id": "a2a2ef3e",
   "metadata": {},
   "outputs": [
    {
     "data": {
      "text/plain": [
       "''"
      ]
     },
     "execution_count": 140,
     "metadata": {},
     "output_type": "execute_result"
    }
   ],
   "source": [
    "''''''"
   ]
  },
  {
   "cell_type": "code",
   "execution_count": 141,
   "id": "88737592",
   "metadata": {},
   "outputs": [],
   "source": [
    "file = 'data.xlsx'"
   ]
  },
  {
   "cell_type": "code",
   "execution_count": 142,
   "id": "06d7060f",
   "metadata": {},
   "outputs": [],
   "source": [
    "df = pd.read_excel(file)"
   ]
  },
  {
   "cell_type": "code",
   "execution_count": 143,
   "id": "88ce30d4",
   "metadata": {},
   "outputs": [
    {
     "data": {
      "text/plain": [
       "''"
      ]
     },
     "execution_count": 143,
     "metadata": {},
     "output_type": "execute_result"
    }
   ],
   "source": [
    "''''''"
   ]
  },
  {
   "cell_type": "code",
   "execution_count": 144,
   "id": "073b3547",
   "metadata": {},
   "outputs": [],
   "source": [
    "df = df.drop(columns = 'Unnamed: 5')"
   ]
  },
  {
   "cell_type": "code",
   "execution_count": 145,
   "id": "ee716943",
   "metadata": {},
   "outputs": [],
   "source": [
    "df = df.drop([0, 1])"
   ]
  },
  {
   "cell_type": "code",
   "execution_count": 146,
   "id": "9c58ff59",
   "metadata": {},
   "outputs": [],
   "source": [
    "df = df.dropna(subset=['client_id'])"
   ]
  },
  {
   "cell_type": "code",
   "execution_count": 147,
   "id": "3fce8ebb",
   "metadata": {},
   "outputs": [],
   "source": [
    "df['client_id'] = pd.to_numeric(df['client_id'], errors='coerce').astype('Int64')"
   ]
  },
  {
   "cell_type": "code",
   "execution_count": 148,
   "id": "c6f4a7af",
   "metadata": {},
   "outputs": [],
   "source": [
    "df['receiving_date'] = pd.to_datetime(df['receiving_date'], format='%Y-%m-%d', errors='coerce')"
   ]
  },
  {
   "cell_type": "code",
   "execution_count": 149,
   "id": "5e553147",
   "metadata": {},
   "outputs": [
    {
     "data": {
      "text/plain": [
       "client_id                  Int64\n",
       "sum                      float64\n",
       "status                    object\n",
       "sale                      object\n",
       "new/current               object\n",
       "document                  object\n",
       "receiving_date    datetime64[ns]\n",
       "dtype: object"
      ]
     },
     "execution_count": 149,
     "metadata": {},
     "output_type": "execute_result"
    }
   ],
   "source": [
    "df.dtypes"
   ]
  },
  {
   "cell_type": "code",
   "execution_count": 150,
   "id": "4bbea99b",
   "metadata": {},
   "outputs": [
    {
     "data": {
      "text/plain": [
       "''"
      ]
     },
     "execution_count": 150,
     "metadata": {},
     "output_type": "execute_result"
    }
   ],
   "source": [
    "''''''"
   ]
  },
  {
   "cell_type": "markdown",
   "id": "0ddd86fe",
   "metadata": {},
   "source": [
    "В файле «data.xlsx» представлены данные по поступлению денежных средств от\n",
    "клиентов компании N за покупку ее услуг."
   ]
  },
  {
   "cell_type": "code",
   "execution_count": 151,
   "id": "1a1efbea",
   "metadata": {},
   "outputs": [
    {
     "data": {
      "text/html": [
       "<div>\n",
       "<style scoped>\n",
       "    .dataframe tbody tr th:only-of-type {\n",
       "        vertical-align: middle;\n",
       "    }\n",
       "\n",
       "    .dataframe tbody tr th {\n",
       "        vertical-align: top;\n",
       "    }\n",
       "\n",
       "    .dataframe thead th {\n",
       "        text-align: right;\n",
       "    }\n",
       "</style>\n",
       "<table border=\"1\" class=\"dataframe\">\n",
       "  <thead>\n",
       "    <tr style=\"text-align: right;\">\n",
       "      <th></th>\n",
       "      <th>client_id</th>\n",
       "      <th>sum</th>\n",
       "      <th>status</th>\n",
       "      <th>sale</th>\n",
       "      <th>new/current</th>\n",
       "      <th>document</th>\n",
       "      <th>receiving_date</th>\n",
       "    </tr>\n",
       "  </thead>\n",
       "  <tbody>\n",
       "    <tr>\n",
       "      <th>2</th>\n",
       "      <td>14</td>\n",
       "      <td>5452.7</td>\n",
       "      <td>ОПЛАЧЕНО</td>\n",
       "      <td>Петрова</td>\n",
       "      <td>новая</td>\n",
       "      <td>оригинал</td>\n",
       "      <td>2021-07-26</td>\n",
       "    </tr>\n",
       "    <tr>\n",
       "      <th>3</th>\n",
       "      <td>15</td>\n",
       "      <td>13991.7</td>\n",
       "      <td>ОПЛАЧЕНО</td>\n",
       "      <td>Иванов</td>\n",
       "      <td>текущая</td>\n",
       "      <td>оригинал</td>\n",
       "      <td>2021-06-08</td>\n",
       "    </tr>\n",
       "    <tr>\n",
       "      <th>4</th>\n",
       "      <td>16</td>\n",
       "      <td>719.7</td>\n",
       "      <td>ОПЛАЧЕНО</td>\n",
       "      <td>Иванов</td>\n",
       "      <td>текущая</td>\n",
       "      <td>оригинал</td>\n",
       "      <td>2021-06-08</td>\n",
       "    </tr>\n",
       "    <tr>\n",
       "      <th>5</th>\n",
       "      <td>18</td>\n",
       "      <td>4253.7</td>\n",
       "      <td>ОПЛАЧЕНО</td>\n",
       "      <td>Иванов</td>\n",
       "      <td>текущая</td>\n",
       "      <td>оригинал</td>\n",
       "      <td>2021-07-07</td>\n",
       "    </tr>\n",
       "    <tr>\n",
       "      <th>6</th>\n",
       "      <td>20</td>\n",
       "      <td>5796.7</td>\n",
       "      <td>ОПЛАЧЕНО</td>\n",
       "      <td>Кузнецова</td>\n",
       "      <td>текущая</td>\n",
       "      <td>оригинал</td>\n",
       "      <td>2021-07-15</td>\n",
       "    </tr>\n",
       "    <tr>\n",
       "      <th>...</th>\n",
       "      <td>...</td>\n",
       "      <td>...</td>\n",
       "      <td>...</td>\n",
       "      <td>...</td>\n",
       "      <td>...</td>\n",
       "      <td>...</td>\n",
       "      <td>...</td>\n",
       "    </tr>\n",
       "    <tr>\n",
       "      <th>725</th>\n",
       "      <td>285</td>\n",
       "      <td>4328.7</td>\n",
       "      <td>ОПЛАЧЕНО</td>\n",
       "      <td>Васильев</td>\n",
       "      <td>текущая</td>\n",
       "      <td>оригинал</td>\n",
       "      <td>2021-11-15</td>\n",
       "    </tr>\n",
       "    <tr>\n",
       "      <th>726</th>\n",
       "      <td>360</td>\n",
       "      <td>3096.2</td>\n",
       "      <td>ОПЛАЧЕНО</td>\n",
       "      <td>Васильев</td>\n",
       "      <td>новая</td>\n",
       "      <td>НЕТ</td>\n",
       "      <td>NaT</td>\n",
       "    </tr>\n",
       "    <tr>\n",
       "      <th>727</th>\n",
       "      <td>360</td>\n",
       "      <td>3096.2</td>\n",
       "      <td>ПРОСРОЧЕНО</td>\n",
       "      <td>Васильев</td>\n",
       "      <td>новая</td>\n",
       "      <td>НЕТ</td>\n",
       "      <td>NaT</td>\n",
       "    </tr>\n",
       "    <tr>\n",
       "      <th>728</th>\n",
       "      <td>373</td>\n",
       "      <td>4403.7</td>\n",
       "      <td>ОПЛАЧЕНО</td>\n",
       "      <td>Михайлов</td>\n",
       "      <td>новая</td>\n",
       "      <td>оригинал</td>\n",
       "      <td>2021-11-08</td>\n",
       "    </tr>\n",
       "    <tr>\n",
       "      <th>729</th>\n",
       "      <td>286</td>\n",
       "      <td>3978.7</td>\n",
       "      <td>ОПЛАЧЕНО</td>\n",
       "      <td>Филимонова</td>\n",
       "      <td>текущая</td>\n",
       "      <td>оригинал</td>\n",
       "      <td>2021-11-15</td>\n",
       "    </tr>\n",
       "  </tbody>\n",
       "</table>\n",
       "<p>723 rows × 7 columns</p>\n",
       "</div>"
      ],
      "text/plain": [
       "     client_id      sum      status        sale new/current  document  \\\n",
       "2           14   5452.7    ОПЛАЧЕНО     Петрова       новая  оригинал   \n",
       "3           15  13991.7    ОПЛАЧЕНО      Иванов     текущая  оригинал   \n",
       "4           16    719.7    ОПЛАЧЕНО      Иванов     текущая  оригинал   \n",
       "5           18   4253.7    ОПЛАЧЕНО      Иванов     текущая  оригинал   \n",
       "6           20   5796.7    ОПЛАЧЕНО   Кузнецова     текущая  оригинал   \n",
       "..         ...      ...         ...         ...         ...       ...   \n",
       "725        285   4328.7    ОПЛАЧЕНО    Васильев     текущая  оригинал   \n",
       "726        360   3096.2    ОПЛАЧЕНО    Васильев       новая       НЕТ   \n",
       "727        360   3096.2  ПРОСРОЧЕНО    Васильев       новая       НЕТ   \n",
       "728        373   4403.7    ОПЛАЧЕНО    Михайлов       новая  оригинал   \n",
       "729        286   3978.7    ОПЛАЧЕНО  Филимонова     текущая  оригинал   \n",
       "\n",
       "    receiving_date  \n",
       "2       2021-07-26  \n",
       "3       2021-06-08  \n",
       "4       2021-06-08  \n",
       "5       2021-07-07  \n",
       "6       2021-07-15  \n",
       "..             ...  \n",
       "725     2021-11-15  \n",
       "726            NaT  \n",
       "727            NaT  \n",
       "728     2021-11-08  \n",
       "729     2021-11-15  \n",
       "\n",
       "[723 rows x 7 columns]"
      ]
     },
     "execution_count": 151,
     "metadata": {},
     "output_type": "execute_result"
    }
   ],
   "source": [
    "df"
   ]
  },
  {
   "cell_type": "markdown",
   "id": "6a2d0cd3",
   "metadata": {},
   "source": [
    "● client_id - ID клиента;\n",
    "\n",
    "● sum – сумма денежных средств;\n",
    "\n",
    "● status – статус оплаты;\n",
    "\n",
    "● sale – менеджер, заключивший сделку;\n",
    "\n",
    "● new/current – статус сделки;\n",
    "\n",
    "● document – наличие оригинала подписанного договора с клиентом;\n",
    "\n",
    "● receiving_date – дата получения оригинала договора."
   ]
  },
  {
   "cell_type": "code",
   "execution_count": 152,
   "id": "2a2d6317",
   "metadata": {},
   "outputs": [
    {
     "data": {
      "text/plain": [
       "client_id           0\n",
       "sum                 0\n",
       "status              0\n",
       "sale                0\n",
       "new/current         0\n",
       "document           15\n",
       "receiving_date    117\n",
       "dtype: int64"
      ]
     },
     "execution_count": 152,
     "metadata": {},
     "output_type": "execute_result"
    }
   ],
   "source": [
    "df.isna().sum()"
   ]
  },
  {
   "cell_type": "code",
   "execution_count": null,
   "id": "52bf635b",
   "metadata": {},
   "outputs": [],
   "source": []
  },
  {
   "cell_type": "markdown",
   "id": "e069a092",
   "metadata": {},
   "source": [
    "# Вычислите общую выручку за июль 2021 по тем сделкам, приход денежных средств которых не просрочен."
   ]
  },
  {
   "cell_type": "code",
   "execution_count": 165,
   "id": "88ba12d1",
   "metadata": {},
   "outputs": [],
   "source": [
    "july = df.query('receiving_date >= \"2021-07-01\" and receiving_date < \"2021-08-01\"')"
   ]
  },
  {
   "cell_type": "code",
   "execution_count": 167,
   "id": "6b8335e5",
   "metadata": {},
   "outputs": [
    {
     "data": {
      "text/html": [
       "<div>\n",
       "<style scoped>\n",
       "    .dataframe tbody tr th:only-of-type {\n",
       "        vertical-align: middle;\n",
       "    }\n",
       "\n",
       "    .dataframe tbody tr th {\n",
       "        vertical-align: top;\n",
       "    }\n",
       "\n",
       "    .dataframe thead th {\n",
       "        text-align: right;\n",
       "    }\n",
       "</style>\n",
       "<table border=\"1\" class=\"dataframe\">\n",
       "  <thead>\n",
       "    <tr style=\"text-align: right;\">\n",
       "      <th></th>\n",
       "      <th>client_id</th>\n",
       "      <th>sum</th>\n",
       "      <th>status</th>\n",
       "      <th>sale</th>\n",
       "      <th>new/current</th>\n",
       "      <th>document</th>\n",
       "      <th>receiving_date</th>\n",
       "    </tr>\n",
       "  </thead>\n",
       "  <tbody>\n",
       "    <tr>\n",
       "      <th>2</th>\n",
       "      <td>14</td>\n",
       "      <td>5452.70</td>\n",
       "      <td>ОПЛАЧЕНО</td>\n",
       "      <td>Петрова</td>\n",
       "      <td>новая</td>\n",
       "      <td>оригинал</td>\n",
       "      <td>2021-07-26</td>\n",
       "    </tr>\n",
       "    <tr>\n",
       "      <th>5</th>\n",
       "      <td>18</td>\n",
       "      <td>4253.70</td>\n",
       "      <td>ОПЛАЧЕНО</td>\n",
       "      <td>Иванов</td>\n",
       "      <td>текущая</td>\n",
       "      <td>оригинал</td>\n",
       "      <td>2021-07-07</td>\n",
       "    </tr>\n",
       "    <tr>\n",
       "      <th>6</th>\n",
       "      <td>20</td>\n",
       "      <td>5796.70</td>\n",
       "      <td>ОПЛАЧЕНО</td>\n",
       "      <td>Кузнецова</td>\n",
       "      <td>текущая</td>\n",
       "      <td>оригинал</td>\n",
       "      <td>2021-07-15</td>\n",
       "    </tr>\n",
       "    <tr>\n",
       "      <th>12</th>\n",
       "      <td>32</td>\n",
       "      <td>7353.90</td>\n",
       "      <td>ОПЛАЧЕНО</td>\n",
       "      <td>Филимонова</td>\n",
       "      <td>текущая</td>\n",
       "      <td>оригинал</td>\n",
       "      <td>2021-07-09</td>\n",
       "    </tr>\n",
       "    <tr>\n",
       "      <th>13</th>\n",
       "      <td>34</td>\n",
       "      <td>3892.52</td>\n",
       "      <td>ОПЛАЧЕНО</td>\n",
       "      <td>Филимонова</td>\n",
       "      <td>текущая</td>\n",
       "      <td>оригинал</td>\n",
       "      <td>2021-07-09</td>\n",
       "    </tr>\n",
       "    <tr>\n",
       "      <th>...</th>\n",
       "      <td>...</td>\n",
       "      <td>...</td>\n",
       "      <td>...</td>\n",
       "      <td>...</td>\n",
       "      <td>...</td>\n",
       "      <td>...</td>\n",
       "      <td>...</td>\n",
       "    </tr>\n",
       "    <tr>\n",
       "      <th>251</th>\n",
       "      <td>273</td>\n",
       "      <td>10133.70</td>\n",
       "      <td>ОПЛАЧЕНО</td>\n",
       "      <td>Петрова</td>\n",
       "      <td>текущая</td>\n",
       "      <td>оригинал</td>\n",
       "      <td>2021-07-06</td>\n",
       "    </tr>\n",
       "    <tr>\n",
       "      <th>252</th>\n",
       "      <td>277</td>\n",
       "      <td>4798.70</td>\n",
       "      <td>ОПЛАЧЕНО</td>\n",
       "      <td>Филимонова</td>\n",
       "      <td>текущая</td>\n",
       "      <td>оригинал</td>\n",
       "      <td>2021-07-08</td>\n",
       "    </tr>\n",
       "    <tr>\n",
       "      <th>253</th>\n",
       "      <td>281</td>\n",
       "      <td>5733.70</td>\n",
       "      <td>ОПЛАЧЕНО</td>\n",
       "      <td>Селиванов</td>\n",
       "      <td>текущая</td>\n",
       "      <td>оригинал</td>\n",
       "      <td>2021-07-22</td>\n",
       "    </tr>\n",
       "    <tr>\n",
       "      <th>254</th>\n",
       "      <td>282</td>\n",
       "      <td>953.70</td>\n",
       "      <td>ОПЛАЧЕНО</td>\n",
       "      <td>Селиванов</td>\n",
       "      <td>новая</td>\n",
       "      <td>оригинал</td>\n",
       "      <td>2021-07-16</td>\n",
       "    </tr>\n",
       "    <tr>\n",
       "      <th>256</th>\n",
       "      <td>286</td>\n",
       "      <td>3453.70</td>\n",
       "      <td>ОПЛАЧЕНО</td>\n",
       "      <td>Филимонова</td>\n",
       "      <td>текущая</td>\n",
       "      <td>оригинал</td>\n",
       "      <td>2021-07-22</td>\n",
       "    </tr>\n",
       "  </tbody>\n",
       "</table>\n",
       "<p>118 rows × 7 columns</p>\n",
       "</div>"
      ],
      "text/plain": [
       "     client_id       sum    status        sale new/current  document  \\\n",
       "2           14   5452.70  ОПЛАЧЕНО     Петрова       новая  оригинал   \n",
       "5           18   4253.70  ОПЛАЧЕНО      Иванов     текущая  оригинал   \n",
       "6           20   5796.70  ОПЛАЧЕНО   Кузнецова     текущая  оригинал   \n",
       "12          32   7353.90  ОПЛАЧЕНО  Филимонова     текущая  оригинал   \n",
       "13          34   3892.52  ОПЛАЧЕНО  Филимонова     текущая  оригинал   \n",
       "..         ...       ...       ...         ...         ...       ...   \n",
       "251        273  10133.70  ОПЛАЧЕНО     Петрова     текущая  оригинал   \n",
       "252        277   4798.70  ОПЛАЧЕНО  Филимонова     текущая  оригинал   \n",
       "253        281   5733.70  ОПЛАЧЕНО   Селиванов     текущая  оригинал   \n",
       "254        282    953.70  ОПЛАЧЕНО   Селиванов       новая  оригинал   \n",
       "256        286   3453.70  ОПЛАЧЕНО  Филимонова     текущая  оригинал   \n",
       "\n",
       "    receiving_date  \n",
       "2       2021-07-26  \n",
       "5       2021-07-07  \n",
       "6       2021-07-15  \n",
       "12      2021-07-09  \n",
       "13      2021-07-09  \n",
       "..             ...  \n",
       "251     2021-07-06  \n",
       "252     2021-07-08  \n",
       "253     2021-07-22  \n",
       "254     2021-07-16  \n",
       "256     2021-07-22  \n",
       "\n",
       "[118 rows x 7 columns]"
      ]
     },
     "execution_count": 167,
     "metadata": {},
     "output_type": "execute_result"
    }
   ],
   "source": [
    "july"
   ]
  },
  {
   "cell_type": "code",
   "execution_count": 168,
   "id": "f7b8a56c",
   "metadata": {},
   "outputs": [
    {
     "data": {
      "text/plain": [
       "array(['ОПЛАЧЕНО', 'ПРОСРОЧЕНО'], dtype=object)"
      ]
     },
     "execution_count": 168,
     "metadata": {},
     "output_type": "execute_result"
    }
   ],
   "source": [
    "july.status.unique()"
   ]
  },
  {
   "cell_type": "code",
   "execution_count": 172,
   "id": "e3483311",
   "metadata": {},
   "outputs": [
    {
     "data": {
      "text/plain": [
       "4728088.68"
      ]
     },
     "execution_count": 172,
     "metadata": {},
     "output_type": "execute_result"
    }
   ],
   "source": [
    "round(df.query('status != \"ПРОСРОЧЕНО\"')['sum'].sum(), 2)"
   ]
  },
  {
   "cell_type": "markdown",
   "id": "87ec5bf8",
   "metadata": {},
   "source": [
    "<h2> Ответ: 4 728 088.68 </h2>"
   ]
  },
  {
   "cell_type": "code",
   "execution_count": null,
   "id": "96d1d0bf",
   "metadata": {},
   "outputs": [],
   "source": []
  },
  {
   "cell_type": "markdown",
   "id": "6d489cff",
   "metadata": {},
   "source": [
    "# Как изменялась выручка компании за рассматриваемый период? Проиллюстрируйте графиком."
   ]
  },
  {
   "cell_type": "markdown",
   "id": "6079b452",
   "metadata": {},
   "source": [
    "Если за рассматриваемый период имеется в виду ИЮЛЬ, то посмотрим по дням месяца как изменялась выручака"
   ]
  },
  {
   "cell_type": "code",
   "execution_count": 176,
   "id": "bff7a043",
   "metadata": {},
   "outputs": [],
   "source": [
    "july_clean = july.query('status != \"ПРОСРОЧЕНО\"')"
   ]
  },
  {
   "cell_type": "code",
   "execution_count": 180,
   "id": "b41cad6f",
   "metadata": {},
   "outputs": [],
   "source": [
    "july_revenue = july_clean.groupby('receiving_date').agg({'sum':'sum'})"
   ]
  },
  {
   "cell_type": "code",
   "execution_count": 181,
   "id": "36e9f7e4",
   "metadata": {},
   "outputs": [],
   "source": [
    "import matplotlib.pyplot as plt"
   ]
  },
  {
   "cell_type": "code",
   "execution_count": 182,
   "id": "d3b4522b",
   "metadata": {},
   "outputs": [
    {
     "data": {
      "image/png": "[encoded data removed]",
      "text/plain": [
       "<Figure size 1000x600 with 1 Axes>"
      ]
     },
     "metadata": {},
     "output_type": "display_data"
    }
   ],
   "source": [
    "plt.figure(figsize=(10, 6))\n",
    "\n",
    "plt.plot(july_revenue, marker='o', linestyle='-', color='b')\n",
    "\n",
    "plt.title('Доходы по дням июля 2024 года')\n",
    "plt.xlabel('Дата')\n",
    "plt.ylabel('Доход ($)')\n",
    "plt.grid(True)\n",
    "plt.xticks(rotation=45)\n",
    "plt.tight_layout()\n",
    "plt.show()"
   ]
  },
  {
   "cell_type": "code",
   "execution_count": null,
   "id": "556cc5a4",
   "metadata": {},
   "outputs": [],
   "source": []
  },
  {
   "cell_type": "markdown",
   "id": "7edab42b",
   "metadata": {},
   "source": [
    "# Кто из менеджеров привлек для компании больше всего денежных средств в сентябре 2021?"
   ]
  },
  {
   "cell_type": "code",
   "execution_count": 185,
   "id": "f168ebd2",
   "metadata": {},
   "outputs": [],
   "source": [
    "sep = df.query('receiving_date >= \"2021-09-01\" and receiving_date < \"2021-10-01\"')"
   ]
  },
  {
   "cell_type": "code",
   "execution_count": 192,
   "id": "c438af8a",
   "metadata": {},
   "outputs": [],
   "source": [
    "sep_clean = sep.query('status != \"ПРОСРОЧЕНО\" and status != \"В РАБОТЕ\"')"
   ]
  },
  {
   "cell_type": "code",
   "execution_count": 195,
   "id": "55dd9641",
   "metadata": {},
   "outputs": [],
   "source": [
    "sep_sales = sep_clean.groupby('sale', as_index=False).agg({'sum':'sum'}).sort_values('sum', ascending=False)"
   ]
  },
  {
   "cell_type": "code",
   "execution_count": 197,
   "id": "f0c1d157",
   "metadata": {},
   "outputs": [
    {
     "data": {
      "image/png": "[encoded data removed]",
      "text/plain": [
       "<Figure size 1200x800 with 1 Axes>"
      ]
     },
     "metadata": {},
     "output_type": "display_data"
    }
   ],
   "source": [
    "plt.figure(figsize=(12, 8))\n",
    "bars = plt.bar(sep_sales['sale'], sep_sales['sum'], color='skyblue')\n",
    "\n",
    "# Добавление подписей\n",
    "for bar in bars:\n",
    "    yval = bar.get_height()\n",
    "    plt.text(bar.get_x() + bar.get_width()/2, yval, f'{yval:.2f}', va='bottom', ha='center')\n",
    "\n",
    "plt.title('Суммы по клиентам')\n",
    "plt.xlabel('Клиенты')\n",
    "plt.ylabel('Сумма ($)')\n",
    "plt.xticks(rotation=45)\n",
    "plt.grid(axis='y')\n",
    "plt.tight_layout()\n",
    "plt.show()"
   ]
  },
  {
   "cell_type": "markdown",
   "id": "8e8dc3b7",
   "metadata": {},
   "source": [
    "<h2> Ответ: Петрова </h2>"
   ]
  },
  {
   "cell_type": "code",
   "execution_count": null,
   "id": "6cd49da6",
   "metadata": {},
   "outputs": [],
   "source": []
  },
  {
   "cell_type": "markdown",
   "id": "3814cbec",
   "metadata": {},
   "source": [
    "# Какой тип сделок (новая/текущая) был преобладающим в октябре 2021?"
   ]
  },
  {
   "cell_type": "code",
   "execution_count": 198,
   "id": "77fe0a34",
   "metadata": {},
   "outputs": [],
   "source": [
    "oct = df.query('receiving_date >= \"2021-10-01\" and receiving_date < \"2021-11-01\"')"
   ]
  },
  {
   "cell_type": "code",
   "execution_count": 199,
   "id": "a2bde6b1",
   "metadata": {},
   "outputs": [
    {
     "data": {
      "text/html": [
       "<div>\n",
       "<style scoped>\n",
       "    .dataframe tbody tr th:only-of-type {\n",
       "        vertical-align: middle;\n",
       "    }\n",
       "\n",
       "    .dataframe tbody tr th {\n",
       "        vertical-align: top;\n",
       "    }\n",
       "\n",
       "    .dataframe thead th {\n",
       "        text-align: right;\n",
       "    }\n",
       "</style>\n",
       "<table border=\"1\" class=\"dataframe\">\n",
       "  <thead>\n",
       "    <tr style=\"text-align: right;\">\n",
       "      <th></th>\n",
       "      <th>client_id</th>\n",
       "      <th>sum</th>\n",
       "      <th>status</th>\n",
       "      <th>sale</th>\n",
       "      <th>new/current</th>\n",
       "      <th>document</th>\n",
       "      <th>receiving_date</th>\n",
       "    </tr>\n",
       "  </thead>\n",
       "  <tbody>\n",
       "    <tr>\n",
       "      <th>7</th>\n",
       "      <td>21</td>\n",
       "      <td>3613.7</td>\n",
       "      <td>ОПЛАЧЕНО</td>\n",
       "      <td>Кузнецова</td>\n",
       "      <td>текущая</td>\n",
       "      <td>оригинал</td>\n",
       "      <td>2021-10-13</td>\n",
       "    </tr>\n",
       "    <tr>\n",
       "      <th>24</th>\n",
       "      <td>48</td>\n",
       "      <td>4452.7</td>\n",
       "      <td>ОПЛАЧЕНО</td>\n",
       "      <td>Петрова</td>\n",
       "      <td>текущая</td>\n",
       "      <td>оригинал</td>\n",
       "      <td>2021-10-08</td>\n",
       "    </tr>\n",
       "    <tr>\n",
       "      <th>139</th>\n",
       "      <td>31</td>\n",
       "      <td>6523.7</td>\n",
       "      <td>ОПЛАЧЕНО</td>\n",
       "      <td>Филимонова</td>\n",
       "      <td>новая</td>\n",
       "      <td>оригинал</td>\n",
       "      <td>2021-10-12</td>\n",
       "    </tr>\n",
       "    <tr>\n",
       "      <th>322</th>\n",
       "      <td>175</td>\n",
       "      <td>5328.7</td>\n",
       "      <td>ОПЛАЧЕНО</td>\n",
       "      <td>Андреев</td>\n",
       "      <td>текущая</td>\n",
       "      <td>оригинал</td>\n",
       "      <td>2021-10-04</td>\n",
       "    </tr>\n",
       "    <tr>\n",
       "      <th>337</th>\n",
       "      <td>228</td>\n",
       "      <td>2193.7</td>\n",
       "      <td>ОПЛАЧЕНО</td>\n",
       "      <td>Смирнов</td>\n",
       "      <td>текущая</td>\n",
       "      <td>NaN</td>\n",
       "      <td>2021-10-06</td>\n",
       "    </tr>\n",
       "    <tr>\n",
       "      <th>...</th>\n",
       "      <td>...</td>\n",
       "      <td>...</td>\n",
       "      <td>...</td>\n",
       "      <td>...</td>\n",
       "      <td>...</td>\n",
       "      <td>...</td>\n",
       "      <td>...</td>\n",
       "    </tr>\n",
       "    <tr>\n",
       "      <th>589</th>\n",
       "      <td>304</td>\n",
       "      <td>1313.7</td>\n",
       "      <td>ОПЛАЧЕНО</td>\n",
       "      <td>Андреев</td>\n",
       "      <td>текущая</td>\n",
       "      <td>оригинал</td>\n",
       "      <td>2021-10-13</td>\n",
       "    </tr>\n",
       "    <tr>\n",
       "      <th>590</th>\n",
       "      <td>285</td>\n",
       "      <td>3453.7</td>\n",
       "      <td>ОПЛАЧЕНО</td>\n",
       "      <td>Васильев</td>\n",
       "      <td>текущая</td>\n",
       "      <td>оригинал</td>\n",
       "      <td>2021-10-05</td>\n",
       "    </tr>\n",
       "    <tr>\n",
       "      <th>591</th>\n",
       "      <td>285</td>\n",
       "      <td>4328.7</td>\n",
       "      <td>ОПЛАЧЕНО</td>\n",
       "      <td>Васильев</td>\n",
       "      <td>новая</td>\n",
       "      <td>оригинал</td>\n",
       "      <td>2021-10-05</td>\n",
       "    </tr>\n",
       "    <tr>\n",
       "      <th>592</th>\n",
       "      <td>286</td>\n",
       "      <td>4078.7</td>\n",
       "      <td>ОПЛАЧЕНО</td>\n",
       "      <td>Филимонова</td>\n",
       "      <td>текущая</td>\n",
       "      <td>оригинал</td>\n",
       "      <td>2021-10-20</td>\n",
       "    </tr>\n",
       "    <tr>\n",
       "      <th>593</th>\n",
       "      <td>287</td>\n",
       "      <td>6488.7</td>\n",
       "      <td>ОПЛАЧЕНО</td>\n",
       "      <td>Филимонова</td>\n",
       "      <td>текущая</td>\n",
       "      <td>оригинал</td>\n",
       "      <td>2021-10-13</td>\n",
       "    </tr>\n",
       "  </tbody>\n",
       "</table>\n",
       "<p>122 rows × 7 columns</p>\n",
       "</div>"
      ],
      "text/plain": [
       "     client_id     sum    status        sale new/current  document  \\\n",
       "7           21  3613.7  ОПЛАЧЕНО   Кузнецова     текущая  оригинал   \n",
       "24          48  4452.7  ОПЛАЧЕНО     Петрова     текущая  оригинал   \n",
       "139         31  6523.7  ОПЛАЧЕНО  Филимонова       новая  оригинал   \n",
       "322        175  5328.7  ОПЛАЧЕНО     Андреев     текущая  оригинал   \n",
       "337        228  2193.7  ОПЛАЧЕНО     Смирнов     текущая       NaN   \n",
       "..         ...     ...       ...         ...         ...       ...   \n",
       "589        304  1313.7  ОПЛАЧЕНО     Андреев     текущая  оригинал   \n",
       "590        285  3453.7  ОПЛАЧЕНО    Васильев     текущая  оригинал   \n",
       "591        285  4328.7  ОПЛАЧЕНО    Васильев       новая  оригинал   \n",
       "592        286  4078.7  ОПЛАЧЕНО  Филимонова     текущая  оригинал   \n",
       "593        287  6488.7  ОПЛАЧЕНО  Филимонова     текущая  оригинал   \n",
       "\n",
       "    receiving_date  \n",
       "7       2021-10-13  \n",
       "24      2021-10-08  \n",
       "139     2021-10-12  \n",
       "322     2021-10-04  \n",
       "337     2021-10-06  \n",
       "..             ...  \n",
       "589     2021-10-13  \n",
       "590     2021-10-05  \n",
       "591     2021-10-05  \n",
       "592     2021-10-20  \n",
       "593     2021-10-13  \n",
       "\n",
       "[122 rows x 7 columns]"
      ]
     },
     "execution_count": 199,
     "metadata": {},
     "output_type": "execute_result"
    }
   ],
   "source": [
    "oct"
   ]
  },
  {
   "cell_type": "code",
   "execution_count": 200,
   "id": "9b9b4bb1",
   "metadata": {},
   "outputs": [
    {
     "data": {
      "text/plain": [
       "new/current\n",
       "новая       17\n",
       "текущая    105\n",
       "dtype: int64"
      ]
     },
     "execution_count": 200,
     "metadata": {},
     "output_type": "execute_result"
    }
   ],
   "source": [
    "oct.groupby('new/current').size()"
   ]
  },
  {
   "cell_type": "markdown",
   "id": "600fe45e",
   "metadata": {},
   "source": [
    "<h2> Ответ: Tекущая    </h2>"
   ]
  },
  {
   "cell_type": "code",
   "execution_count": null,
   "id": "e4fad7af",
   "metadata": {},
   "outputs": [],
   "source": []
  },
  {
   "cell_type": "markdown",
   "id": "b046d344",
   "metadata": {},
   "source": [
    "# Сколько оригиналов договора по майским сделкам было получено в июне 2021?"
   ]
  },
  {
   "cell_type": "markdown",
   "id": "23ce68e7",
   "metadata": {},
   "source": [
    "Понятно что:\n",
    "- дата получения договора отмечается колонкой receiving_date\n",
    "- оригинал или неоригинал это document\n",
    "- а что такое за МАЙСКИЕ СДЕЛКИ? (ни в таблице, ни в тз нет указаний или упоминаний о МАЙСКИХ СДЕЛКАХ)"
   ]
  },
  {
   "cell_type": "code",
   "execution_count": 202,
   "id": "88c0e9d4",
   "metadata": {},
   "outputs": [
    {
     "data": {
      "text/html": [
       "<div>\n",
       "<style scoped>\n",
       "    .dataframe tbody tr th:only-of-type {\n",
       "        vertical-align: middle;\n",
       "    }\n",
       "\n",
       "    .dataframe tbody tr th {\n",
       "        vertical-align: top;\n",
       "    }\n",
       "\n",
       "    .dataframe thead th {\n",
       "        text-align: right;\n",
       "    }\n",
       "</style>\n",
       "<table border=\"1\" class=\"dataframe\">\n",
       "  <thead>\n",
       "    <tr style=\"text-align: right;\">\n",
       "      <th></th>\n",
       "      <th>client_id</th>\n",
       "      <th>sum</th>\n",
       "      <th>status</th>\n",
       "      <th>sale</th>\n",
       "      <th>new/current</th>\n",
       "      <th>document</th>\n",
       "      <th>receiving_date</th>\n",
       "    </tr>\n",
       "  </thead>\n",
       "  <tbody>\n",
       "    <tr>\n",
       "      <th>2</th>\n",
       "      <td>14</td>\n",
       "      <td>5452.7</td>\n",
       "      <td>ОПЛАЧЕНО</td>\n",
       "      <td>Петрова</td>\n",
       "      <td>новая</td>\n",
       "      <td>оригинал</td>\n",
       "      <td>2021-07-26</td>\n",
       "    </tr>\n",
       "    <tr>\n",
       "      <th>3</th>\n",
       "      <td>15</td>\n",
       "      <td>13991.7</td>\n",
       "      <td>ОПЛАЧЕНО</td>\n",
       "      <td>Иванов</td>\n",
       "      <td>текущая</td>\n",
       "      <td>оригинал</td>\n",
       "      <td>2021-06-08</td>\n",
       "    </tr>\n",
       "    <tr>\n",
       "      <th>4</th>\n",
       "      <td>16</td>\n",
       "      <td>719.7</td>\n",
       "      <td>ОПЛАЧЕНО</td>\n",
       "      <td>Иванов</td>\n",
       "      <td>текущая</td>\n",
       "      <td>оригинал</td>\n",
       "      <td>2021-06-08</td>\n",
       "    </tr>\n",
       "    <tr>\n",
       "      <th>5</th>\n",
       "      <td>18</td>\n",
       "      <td>4253.7</td>\n",
       "      <td>ОПЛАЧЕНО</td>\n",
       "      <td>Иванов</td>\n",
       "      <td>текущая</td>\n",
       "      <td>оригинал</td>\n",
       "      <td>2021-07-07</td>\n",
       "    </tr>\n",
       "    <tr>\n",
       "      <th>6</th>\n",
       "      <td>20</td>\n",
       "      <td>5796.7</td>\n",
       "      <td>ОПЛАЧЕНО</td>\n",
       "      <td>Кузнецова</td>\n",
       "      <td>текущая</td>\n",
       "      <td>оригинал</td>\n",
       "      <td>2021-07-15</td>\n",
       "    </tr>\n",
       "    <tr>\n",
       "      <th>...</th>\n",
       "      <td>...</td>\n",
       "      <td>...</td>\n",
       "      <td>...</td>\n",
       "      <td>...</td>\n",
       "      <td>...</td>\n",
       "      <td>...</td>\n",
       "      <td>...</td>\n",
       "    </tr>\n",
       "    <tr>\n",
       "      <th>725</th>\n",
       "      <td>285</td>\n",
       "      <td>4328.7</td>\n",
       "      <td>ОПЛАЧЕНО</td>\n",
       "      <td>Васильев</td>\n",
       "      <td>текущая</td>\n",
       "      <td>оригинал</td>\n",
       "      <td>2021-11-15</td>\n",
       "    </tr>\n",
       "    <tr>\n",
       "      <th>726</th>\n",
       "      <td>360</td>\n",
       "      <td>3096.2</td>\n",
       "      <td>ОПЛАЧЕНО</td>\n",
       "      <td>Васильев</td>\n",
       "      <td>новая</td>\n",
       "      <td>НЕТ</td>\n",
       "      <td>NaT</td>\n",
       "    </tr>\n",
       "    <tr>\n",
       "      <th>727</th>\n",
       "      <td>360</td>\n",
       "      <td>3096.2</td>\n",
       "      <td>ПРОСРОЧЕНО</td>\n",
       "      <td>Васильев</td>\n",
       "      <td>новая</td>\n",
       "      <td>НЕТ</td>\n",
       "      <td>NaT</td>\n",
       "    </tr>\n",
       "    <tr>\n",
       "      <th>728</th>\n",
       "      <td>373</td>\n",
       "      <td>4403.7</td>\n",
       "      <td>ОПЛАЧЕНО</td>\n",
       "      <td>Михайлов</td>\n",
       "      <td>новая</td>\n",
       "      <td>оригинал</td>\n",
       "      <td>2021-11-08</td>\n",
       "    </tr>\n",
       "    <tr>\n",
       "      <th>729</th>\n",
       "      <td>286</td>\n",
       "      <td>3978.7</td>\n",
       "      <td>ОПЛАЧЕНО</td>\n",
       "      <td>Филимонова</td>\n",
       "      <td>текущая</td>\n",
       "      <td>оригинал</td>\n",
       "      <td>2021-11-15</td>\n",
       "    </tr>\n",
       "  </tbody>\n",
       "</table>\n",
       "<p>723 rows × 7 columns</p>\n",
       "</div>"
      ],
      "text/plain": [
       "     client_id      sum      status        sale new/current  document  \\\n",
       "2           14   5452.7    ОПЛАЧЕНО     Петрова       новая  оригинал   \n",
       "3           15  13991.7    ОПЛАЧЕНО      Иванов     текущая  оригинал   \n",
       "4           16    719.7    ОПЛАЧЕНО      Иванов     текущая  оригинал   \n",
       "5           18   4253.7    ОПЛАЧЕНО      Иванов     текущая  оригинал   \n",
       "6           20   5796.7    ОПЛАЧЕНО   Кузнецова     текущая  оригинал   \n",
       "..         ...      ...         ...         ...         ...       ...   \n",
       "725        285   4328.7    ОПЛАЧЕНО    Васильев     текущая  оригинал   \n",
       "726        360   3096.2    ОПЛАЧЕНО    Васильев       новая       НЕТ   \n",
       "727        360   3096.2  ПРОСРОЧЕНО    Васильев       новая       НЕТ   \n",
       "728        373   4403.7    ОПЛАЧЕНО    Михайлов       новая  оригинал   \n",
       "729        286   3978.7    ОПЛАЧЕНО  Филимонова     текущая  оригинал   \n",
       "\n",
       "    receiving_date  \n",
       "2       2021-07-26  \n",
       "3       2021-06-08  \n",
       "4       2021-06-08  \n",
       "5       2021-07-07  \n",
       "6       2021-07-15  \n",
       "..             ...  \n",
       "725     2021-11-15  \n",
       "726            NaT  \n",
       "727            NaT  \n",
       "728     2021-11-08  \n",
       "729     2021-11-15  \n",
       "\n",
       "[723 rows x 7 columns]"
      ]
     },
     "execution_count": 202,
     "metadata": {},
     "output_type": "execute_result"
    }
   ],
   "source": [
    "df"
   ]
  },
  {
   "cell_type": "code",
   "execution_count": 203,
   "id": "569bb236",
   "metadata": {},
   "outputs": [],
   "source": [
    "# Поэтому посчитаем просто кол-во оригиналов\n",
    "june = df.query('receiving_date >= \"2021-06-01\" and receiving_date < \"2021-07-01\"')"
   ]
  },
  {
   "cell_type": "code",
   "execution_count": 207,
   "id": "7e6a88a0",
   "metadata": {},
   "outputs": [
    {
     "data": {
      "text/plain": [
       "document\n",
       "оригинал    76\n",
       "dtype: int64"
      ]
     },
     "execution_count": 207,
     "metadata": {},
     "output_type": "execute_result"
    }
   ],
   "source": [
    "june.groupby('document').size()"
   ]
  },
  {
   "cell_type": "code",
   "execution_count": null,
   "id": "80622586",
   "metadata": {},
   "outputs": [],
   "source": []
  },
  {
   "cell_type": "markdown",
   "id": "709eb40f",
   "metadata": {},
   "source": [
    "# Задание:"
   ]
  },
  {
   "cell_type": "code",
   "execution_count": 209,
   "id": "9074b616",
   "metadata": {},
   "outputs": [
    {
     "data": {
      "text/html": [
       "<div>\n",
       "<style scoped>\n",
       "    .dataframe tbody tr th:only-of-type {\n",
       "        vertical-align: middle;\n",
       "    }\n",
       "\n",
       "    .dataframe tbody tr th {\n",
       "        vertical-align: top;\n",
       "    }\n",
       "\n",
       "    .dataframe thead th {\n",
       "        text-align: right;\n",
       "    }\n",
       "</style>\n",
       "<table border=\"1\" class=\"dataframe\">\n",
       "  <thead>\n",
       "    <tr style=\"text-align: right;\">\n",
       "      <th></th>\n",
       "      <th>client_id</th>\n",
       "      <th>sum</th>\n",
       "      <th>status</th>\n",
       "      <th>sale</th>\n",
       "      <th>new/current</th>\n",
       "      <th>document</th>\n",
       "      <th>receiving_date</th>\n",
       "    </tr>\n",
       "  </thead>\n",
       "  <tbody>\n",
       "    <tr>\n",
       "      <th>2</th>\n",
       "      <td>14</td>\n",
       "      <td>5452.70</td>\n",
       "      <td>ОПЛАЧЕНО</td>\n",
       "      <td>Петрова</td>\n",
       "      <td>новая</td>\n",
       "      <td>оригинал</td>\n",
       "      <td>2021-07-26</td>\n",
       "    </tr>\n",
       "    <tr>\n",
       "      <th>5</th>\n",
       "      <td>18</td>\n",
       "      <td>4253.70</td>\n",
       "      <td>ОПЛАЧЕНО</td>\n",
       "      <td>Иванов</td>\n",
       "      <td>текущая</td>\n",
       "      <td>оригинал</td>\n",
       "      <td>2021-07-07</td>\n",
       "    </tr>\n",
       "    <tr>\n",
       "      <th>6</th>\n",
       "      <td>20</td>\n",
       "      <td>5796.70</td>\n",
       "      <td>ОПЛАЧЕНО</td>\n",
       "      <td>Кузнецова</td>\n",
       "      <td>текущая</td>\n",
       "      <td>оригинал</td>\n",
       "      <td>2021-07-15</td>\n",
       "    </tr>\n",
       "    <tr>\n",
       "      <th>12</th>\n",
       "      <td>32</td>\n",
       "      <td>7353.90</td>\n",
       "      <td>ОПЛАЧЕНО</td>\n",
       "      <td>Филимонова</td>\n",
       "      <td>текущая</td>\n",
       "      <td>оригинал</td>\n",
       "      <td>2021-07-09</td>\n",
       "    </tr>\n",
       "    <tr>\n",
       "      <th>13</th>\n",
       "      <td>34</td>\n",
       "      <td>3892.52</td>\n",
       "      <td>ОПЛАЧЕНО</td>\n",
       "      <td>Филимонова</td>\n",
       "      <td>текущая</td>\n",
       "      <td>оригинал</td>\n",
       "      <td>2021-07-09</td>\n",
       "    </tr>\n",
       "    <tr>\n",
       "      <th>...</th>\n",
       "      <td>...</td>\n",
       "      <td>...</td>\n",
       "      <td>...</td>\n",
       "      <td>...</td>\n",
       "      <td>...</td>\n",
       "      <td>...</td>\n",
       "      <td>...</td>\n",
       "    </tr>\n",
       "    <tr>\n",
       "      <th>251</th>\n",
       "      <td>273</td>\n",
       "      <td>10133.70</td>\n",
       "      <td>ОПЛАЧЕНО</td>\n",
       "      <td>Петрова</td>\n",
       "      <td>текущая</td>\n",
       "      <td>оригинал</td>\n",
       "      <td>2021-07-06</td>\n",
       "    </tr>\n",
       "    <tr>\n",
       "      <th>252</th>\n",
       "      <td>277</td>\n",
       "      <td>4798.70</td>\n",
       "      <td>ОПЛАЧЕНО</td>\n",
       "      <td>Филимонова</td>\n",
       "      <td>текущая</td>\n",
       "      <td>оригинал</td>\n",
       "      <td>2021-07-08</td>\n",
       "    </tr>\n",
       "    <tr>\n",
       "      <th>253</th>\n",
       "      <td>281</td>\n",
       "      <td>5733.70</td>\n",
       "      <td>ОПЛАЧЕНО</td>\n",
       "      <td>Селиванов</td>\n",
       "      <td>текущая</td>\n",
       "      <td>оригинал</td>\n",
       "      <td>2021-07-22</td>\n",
       "    </tr>\n",
       "    <tr>\n",
       "      <th>254</th>\n",
       "      <td>282</td>\n",
       "      <td>953.70</td>\n",
       "      <td>ОПЛАЧЕНО</td>\n",
       "      <td>Селиванов</td>\n",
       "      <td>новая</td>\n",
       "      <td>оригинал</td>\n",
       "      <td>2021-07-16</td>\n",
       "    </tr>\n",
       "    <tr>\n",
       "      <th>256</th>\n",
       "      <td>286</td>\n",
       "      <td>3453.70</td>\n",
       "      <td>ОПЛАЧЕНО</td>\n",
       "      <td>Филимонова</td>\n",
       "      <td>текущая</td>\n",
       "      <td>оригинал</td>\n",
       "      <td>2021-07-22</td>\n",
       "    </tr>\n",
       "  </tbody>\n",
       "</table>\n",
       "<p>118 rows × 7 columns</p>\n",
       "</div>"
      ],
      "text/plain": [
       "     client_id       sum    status        sale new/current  document  \\\n",
       "2           14   5452.70  ОПЛАЧЕНО     Петрова       новая  оригинал   \n",
       "5           18   4253.70  ОПЛАЧЕНО      Иванов     текущая  оригинал   \n",
       "6           20   5796.70  ОПЛАЧЕНО   Кузнецова     текущая  оригинал   \n",
       "12          32   7353.90  ОПЛАЧЕНО  Филимонова     текущая  оригинал   \n",
       "13          34   3892.52  ОПЛАЧЕНО  Филимонова     текущая  оригинал   \n",
       "..         ...       ...       ...         ...         ...       ...   \n",
       "251        273  10133.70  ОПЛАЧЕНО     Петрова     текущая  оригинал   \n",
       "252        277   4798.70  ОПЛАЧЕНО  Филимонова     текущая  оригинал   \n",
       "253        281   5733.70  ОПЛАЧЕНО   Селиванов     текущая  оригинал   \n",
       "254        282    953.70  ОПЛАЧЕНО   Селиванов       новая  оригинал   \n",
       "256        286   3453.70  ОПЛАЧЕНО  Филимонова     текущая  оригинал   \n",
       "\n",
       "    receiving_date  \n",
       "2       2021-07-26  \n",
       "5       2021-07-07  \n",
       "6       2021-07-15  \n",
       "12      2021-07-09  \n",
       "13      2021-07-09  \n",
       "..             ...  \n",
       "251     2021-07-06  \n",
       "252     2021-07-08  \n",
       "253     2021-07-22  \n",
       "254     2021-07-16  \n",
       "256     2021-07-22  \n",
       "\n",
       "[118 rows x 7 columns]"
      ]
     },
     "execution_count": 209,
     "metadata": {},
     "output_type": "execute_result"
    }
   ],
   "source": [
    "july"
   ]
  },
  {
   "cell_type": "code",
   "execution_count": 210,
   "id": "4414c8a4",
   "metadata": {},
   "outputs": [],
   "source": [
    "def calculate_bonus(row):\n",
    "    if row['new/current'] == 'новая' and row['status'] == 'ОПЛАЧЕНО' and row['document'] == 'оригинал':\n",
    "        return row['sum'] * 0.07\n",
    "    elif row['new/current'] == 'текущая' and row['status'] != 'ПРОСРОЧЕНО' and row['document'] == 'оригинал':\n",
    "        if row['sum'] > 10000:\n",
    "            return row['sum'] * 0.05\n",
    "        else:\n",
    "            return row['sum'] * 0.03\n",
    "    return 0"
   ]
  },
  {
   "cell_type": "code",
   "execution_count": 211,
   "id": "c4d981a9",
   "metadata": {},
   "outputs": [
    {
     "name": "stderr",
     "output_type": "stream",
     "text": [
      "C:\\Users\\tvoya\\AppData\\Local\\Temp\\ipykernel_16708\\458443122.py:1: SettingWithCopyWarning: \n",
      "A value is trying to be set on a copy of a slice from a DataFrame.\n",
      "Try using .loc[row_indexer,col_indexer] = value instead\n",
      "\n",
      "See the caveats in the documentation: https://pandas.pydata.org/pandas-docs/stable/user_guide/indexing.html#returning-a-view-versus-a-copy\n",
      "  july['bonus'] = july.apply(calculate_bonus, axis=1)\n"
     ]
    }
   ],
   "source": [
    "july['bonus'] = july.apply(calculate_bonus, axis=1)"
   ]
  },
  {
   "cell_type": "code",
   "execution_count": 212,
   "id": "8329a23f",
   "metadata": {},
   "outputs": [
    {
     "data": {
      "text/html": [
       "<div>\n",
       "<style scoped>\n",
       "    .dataframe tbody tr th:only-of-type {\n",
       "        vertical-align: middle;\n",
       "    }\n",
       "\n",
       "    .dataframe tbody tr th {\n",
       "        vertical-align: top;\n",
       "    }\n",
       "\n",
       "    .dataframe thead th {\n",
       "        text-align: right;\n",
       "    }\n",
       "</style>\n",
       "<table border=\"1\" class=\"dataframe\">\n",
       "  <thead>\n",
       "    <tr style=\"text-align: right;\">\n",
       "      <th></th>\n",
       "      <th>client_id</th>\n",
       "      <th>sum</th>\n",
       "      <th>status</th>\n",
       "      <th>sale</th>\n",
       "      <th>new/current</th>\n",
       "      <th>document</th>\n",
       "      <th>receiving_date</th>\n",
       "      <th>bonus</th>\n",
       "    </tr>\n",
       "  </thead>\n",
       "  <tbody>\n",
       "    <tr>\n",
       "      <th>2</th>\n",
       "      <td>14</td>\n",
       "      <td>5452.70</td>\n",
       "      <td>ОПЛАЧЕНО</td>\n",
       "      <td>Петрова</td>\n",
       "      <td>новая</td>\n",
       "      <td>оригинал</td>\n",
       "      <td>2021-07-26</td>\n",
       "      <td>381.6890</td>\n",
       "    </tr>\n",
       "    <tr>\n",
       "      <th>5</th>\n",
       "      <td>18</td>\n",
       "      <td>4253.70</td>\n",
       "      <td>ОПЛАЧЕНО</td>\n",
       "      <td>Иванов</td>\n",
       "      <td>текущая</td>\n",
       "      <td>оригинал</td>\n",
       "      <td>2021-07-07</td>\n",
       "      <td>127.6110</td>\n",
       "    </tr>\n",
       "    <tr>\n",
       "      <th>6</th>\n",
       "      <td>20</td>\n",
       "      <td>5796.70</td>\n",
       "      <td>ОПЛАЧЕНО</td>\n",
       "      <td>Кузнецова</td>\n",
       "      <td>текущая</td>\n",
       "      <td>оригинал</td>\n",
       "      <td>2021-07-15</td>\n",
       "      <td>173.9010</td>\n",
       "    </tr>\n",
       "    <tr>\n",
       "      <th>12</th>\n",
       "      <td>32</td>\n",
       "      <td>7353.90</td>\n",
       "      <td>ОПЛАЧЕНО</td>\n",
       "      <td>Филимонова</td>\n",
       "      <td>текущая</td>\n",
       "      <td>оригинал</td>\n",
       "      <td>2021-07-09</td>\n",
       "      <td>220.6170</td>\n",
       "    </tr>\n",
       "    <tr>\n",
       "      <th>13</th>\n",
       "      <td>34</td>\n",
       "      <td>3892.52</td>\n",
       "      <td>ОПЛАЧЕНО</td>\n",
       "      <td>Филимонова</td>\n",
       "      <td>текущая</td>\n",
       "      <td>оригинал</td>\n",
       "      <td>2021-07-09</td>\n",
       "      <td>116.7756</td>\n",
       "    </tr>\n",
       "    <tr>\n",
       "      <th>...</th>\n",
       "      <td>...</td>\n",
       "      <td>...</td>\n",
       "      <td>...</td>\n",
       "      <td>...</td>\n",
       "      <td>...</td>\n",
       "      <td>...</td>\n",
       "      <td>...</td>\n",
       "      <td>...</td>\n",
       "    </tr>\n",
       "    <tr>\n",
       "      <th>251</th>\n",
       "      <td>273</td>\n",
       "      <td>10133.70</td>\n",
       "      <td>ОПЛАЧЕНО</td>\n",
       "      <td>Петрова</td>\n",
       "      <td>текущая</td>\n",
       "      <td>оригинал</td>\n",
       "      <td>2021-07-06</td>\n",
       "      <td>506.6850</td>\n",
       "    </tr>\n",
       "    <tr>\n",
       "      <th>252</th>\n",
       "      <td>277</td>\n",
       "      <td>4798.70</td>\n",
       "      <td>ОПЛАЧЕНО</td>\n",
       "      <td>Филимонова</td>\n",
       "      <td>текущая</td>\n",
       "      <td>оригинал</td>\n",
       "      <td>2021-07-08</td>\n",
       "      <td>143.9610</td>\n",
       "    </tr>\n",
       "    <tr>\n",
       "      <th>253</th>\n",
       "      <td>281</td>\n",
       "      <td>5733.70</td>\n",
       "      <td>ОПЛАЧЕНО</td>\n",
       "      <td>Селиванов</td>\n",
       "      <td>текущая</td>\n",
       "      <td>оригинал</td>\n",
       "      <td>2021-07-22</td>\n",
       "      <td>172.0110</td>\n",
       "    </tr>\n",
       "    <tr>\n",
       "      <th>254</th>\n",
       "      <td>282</td>\n",
       "      <td>953.70</td>\n",
       "      <td>ОПЛАЧЕНО</td>\n",
       "      <td>Селиванов</td>\n",
       "      <td>новая</td>\n",
       "      <td>оригинал</td>\n",
       "      <td>2021-07-16</td>\n",
       "      <td>66.7590</td>\n",
       "    </tr>\n",
       "    <tr>\n",
       "      <th>256</th>\n",
       "      <td>286</td>\n",
       "      <td>3453.70</td>\n",
       "      <td>ОПЛАЧЕНО</td>\n",
       "      <td>Филимонова</td>\n",
       "      <td>текущая</td>\n",
       "      <td>оригинал</td>\n",
       "      <td>2021-07-22</td>\n",
       "      <td>103.6110</td>\n",
       "    </tr>\n",
       "  </tbody>\n",
       "</table>\n",
       "<p>118 rows × 8 columns</p>\n",
       "</div>"
      ],
      "text/plain": [
       "     client_id       sum    status        sale new/current  document  \\\n",
       "2           14   5452.70  ОПЛАЧЕНО     Петрова       новая  оригинал   \n",
       "5           18   4253.70  ОПЛАЧЕНО      Иванов     текущая  оригинал   \n",
       "6           20   5796.70  ОПЛАЧЕНО   Кузнецова     текущая  оригинал   \n",
       "12          32   7353.90  ОПЛАЧЕНО  Филимонова     текущая  оригинал   \n",
       "13          34   3892.52  ОПЛАЧЕНО  Филимонова     текущая  оригинал   \n",
       "..         ...       ...       ...         ...         ...       ...   \n",
       "251        273  10133.70  ОПЛАЧЕНО     Петрова     текущая  оригинал   \n",
       "252        277   4798.70  ОПЛАЧЕНО  Филимонова     текущая  оригинал   \n",
       "253        281   5733.70  ОПЛАЧЕНО   Селиванов     текущая  оригинал   \n",
       "254        282    953.70  ОПЛАЧЕНО   Селиванов       новая  оригинал   \n",
       "256        286   3453.70  ОПЛАЧЕНО  Филимонова     текущая  оригинал   \n",
       "\n",
       "    receiving_date     bonus  \n",
       "2       2021-07-26  381.6890  \n",
       "5       2021-07-07  127.6110  \n",
       "6       2021-07-15  173.9010  \n",
       "12      2021-07-09  220.6170  \n",
       "13      2021-07-09  116.7756  \n",
       "..             ...       ...  \n",
       "251     2021-07-06  506.6850  \n",
       "252     2021-07-08  143.9610  \n",
       "253     2021-07-22  172.0110  \n",
       "254     2021-07-16   66.7590  \n",
       "256     2021-07-22  103.6110  \n",
       "\n",
       "[118 rows x 8 columns]"
      ]
     },
     "execution_count": 212,
     "metadata": {},
     "output_type": "execute_result"
    }
   ],
   "source": [
    "july"
   ]
  },
  {
   "cell_type": "code",
   "execution_count": 214,
   "id": "d729e5ce",
   "metadata": {},
   "outputs": [],
   "source": [
    "end_date = '2021-07-31'"
   ]
  },
  {
   "cell_type": "code",
   "execution_count": 215,
   "id": "d6ef7e31",
   "metadata": {},
   "outputs": [],
   "source": [
    "outstanding_data = df[(df['receiving_date'] > end_date) | df['receiving_date'].isna()]"
   ]
  },
  {
   "cell_type": "code",
   "execution_count": 216,
   "id": "97a0b4b8",
   "metadata": {},
   "outputs": [
    {
     "name": "stderr",
     "output_type": "stream",
     "text": [
      "C:\\Users\\tvoya\\AppData\\Local\\Temp\\ipykernel_16708\\3454867322.py:1: SettingWithCopyWarning: \n",
      "A value is trying to be set on a copy of a slice from a DataFrame.\n",
      "Try using .loc[row_indexer,col_indexer] = value instead\n",
      "\n",
      "See the caveats in the documentation: https://pandas.pydata.org/pandas-docs/stable/user_guide/indexing.html#returning-a-view-versus-a-copy\n",
      "  outstanding_data['bonus'] = outstanding_data.apply(calculate_bonus, axis=1)\n"
     ]
    }
   ],
   "source": [
    "outstanding_data['bonus'] = outstanding_data.apply(calculate_bonus, axis=1)"
   ]
  },
  {
   "cell_type": "code",
   "execution_count": 218,
   "id": "5658cbff",
   "metadata": {},
   "outputs": [],
   "source": [
    "july_bonus = july.groupby('sale')['bonus'].sum().reset_index()"
   ]
  },
  {
   "cell_type": "code",
   "execution_count": 219,
   "id": "d0129f7e",
   "metadata": {},
   "outputs": [],
   "source": [
    "outstanding_bonus = outstanding_data.groupby('sale')['bonus'].sum().reset_index()"
   ]
  },
  {
   "cell_type": "code",
   "execution_count": 220,
   "id": "3d20d2e1",
   "metadata": {},
   "outputs": [],
   "source": [
    "total_bonus = july_bonus.set_index('sale').add(outstanding_bonus.set_index('sale'), fill_value=0).reset_index()"
   ]
  },
  {
   "cell_type": "code",
   "execution_count": 222,
   "id": "73e39291",
   "metadata": {},
   "outputs": [
    {
     "data": {
      "text/html": [
       "<div>\n",
       "<style scoped>\n",
       "    .dataframe tbody tr th:only-of-type {\n",
       "        vertical-align: middle;\n",
       "    }\n",
       "\n",
       "    .dataframe tbody tr th {\n",
       "        vertical-align: top;\n",
       "    }\n",
       "\n",
       "    .dataframe thead th {\n",
       "        text-align: right;\n",
       "    }\n",
       "</style>\n",
       "<table border=\"1\" class=\"dataframe\">\n",
       "  <thead>\n",
       "    <tr style=\"text-align: right;\">\n",
       "      <th></th>\n",
       "      <th>sale</th>\n",
       "      <th>bonus</th>\n",
       "    </tr>\n",
       "  </thead>\n",
       "  <tbody>\n",
       "    <tr>\n",
       "      <th>0</th>\n",
       "      <td>Андреев</td>\n",
       "      <td>26175.9483</td>\n",
       "    </tr>\n",
       "    <tr>\n",
       "      <th>1</th>\n",
       "      <td>Васильев</td>\n",
       "      <td>6934.5985</td>\n",
       "    </tr>\n",
       "    <tr>\n",
       "      <th>2</th>\n",
       "      <td>Иванов</td>\n",
       "      <td>22254.2570</td>\n",
       "    </tr>\n",
       "    <tr>\n",
       "      <th>3</th>\n",
       "      <td>Кузнецова</td>\n",
       "      <td>16108.7711</td>\n",
       "    </tr>\n",
       "    <tr>\n",
       "      <th>4</th>\n",
       "      <td>Михайлов</td>\n",
       "      <td>607.0680</td>\n",
       "    </tr>\n",
       "    <tr>\n",
       "      <th>5</th>\n",
       "      <td>Петрова</td>\n",
       "      <td>27753.6542</td>\n",
       "    </tr>\n",
       "    <tr>\n",
       "      <th>6</th>\n",
       "      <td>Попов</td>\n",
       "      <td>0.0000</td>\n",
       "    </tr>\n",
       "    <tr>\n",
       "      <th>7</th>\n",
       "      <td>Селиванов</td>\n",
       "      <td>7102.4570</td>\n",
       "    </tr>\n",
       "    <tr>\n",
       "      <th>8</th>\n",
       "      <td>Смирнов</td>\n",
       "      <td>30073.1380</td>\n",
       "    </tr>\n",
       "    <tr>\n",
       "      <th>9</th>\n",
       "      <td>Соколов</td>\n",
       "      <td>3730.7090</td>\n",
       "    </tr>\n",
       "    <tr>\n",
       "      <th>10</th>\n",
       "      <td>Филимонова</td>\n",
       "      <td>10830.5305</td>\n",
       "    </tr>\n",
       "  </tbody>\n",
       "</table>\n",
       "</div>"
      ],
      "text/plain": [
       "          sale       bonus\n",
       "0      Андреев  26175.9483\n",
       "1     Васильев   6934.5985\n",
       "2       Иванов  22254.2570\n",
       "3    Кузнецова  16108.7711\n",
       "4     Михайлов    607.0680\n",
       "5      Петрова  27753.6542\n",
       "6        Попов      0.0000\n",
       "7    Селиванов   7102.4570\n",
       "8      Смирнов  30073.1380\n",
       "9      Соколов   3730.7090\n",
       "10  Филимонова  10830.5305"
      ]
     },
     "execution_count": 222,
     "metadata": {},
     "output_type": "execute_result"
    }
   ],
   "source": [
    "# Бонусы по сделкам\n",
    "total_bonus"
   ]
  },
  {
   "cell_type": "code",
   "execution_count": null,
   "id": "f9632000",
   "metadata": {},
   "outputs": [],
   "source": []
  }
 ],
 "metadata": {
  "kernelspec": {
   "display_name": "Python 3 (ipykernel)",
   "language": "python",
   "name": "python3"
  },
  "language_info": {
   "codemirror_mode": {
    "name": "ipython",
    "version": 3
   },
   "file_extension": ".py",
   "mimetype": "text/x-python",
   "name": "python",
   "nbconvert_exporter": "python",
   "pygments_lexer": "ipython3",
   "version": "3.11.5"
  }
 },
 "nbformat": 4,
 "nbformat_minor": 5
}
